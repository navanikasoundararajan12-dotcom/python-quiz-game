{
 "cells": [
  {
   "cell_type": "code",
   "execution_count": 1,
   "id": "130497b4-1a14-48c4-b3ee-f08ca2a4641a",
   "metadata": {},
   "outputs": [],
   "source": [
    "import pandas as pd\n",
    "import matplotlib.pyplot as plt "
   ]
  },
  {
   "cell_type": "code",
   "execution_count": 31,
   "id": "1798e0d7-c61b-4b37-b6b8-7850423261ba",
   "metadata": {},
   "outputs": [
    {
     "name": "stdout",
     "output_type": "stream",
     "text": [
      "Welcome to the QUIZ GAME!\n"
     ]
    },
    {
     "name": "stdin",
     "output_type": "stream",
     "text": [
      "Enter your name:  Priya\n"
     ]
    },
    {
     "name": "stdout",
     "output_type": "stream",
     "text": [
      "\n",
      "Who is the Prime Minister of India?\n"
     ]
    },
    {
     "name": "stdin",
     "output_type": "stream",
     "text": [
      "Your answer:  Narendra Modi\n"
     ]
    },
    {
     "name": "stdout",
     "output_type": "stream",
     "text": [
      "BOOM! That's right \n",
      "\n",
      "Who is the first female on the moon?\n"
     ]
    },
    {
     "name": "stdin",
     "output_type": "stream",
     "text": [
      "Your answer:  Sunita Williams\n"
     ]
    },
    {
     "name": "stdout",
     "output_type": "stream",
     "text": [
      "Whoops, That's wrong Correct answer: Christina Koch\n",
      "\n",
      "What is the largest ocean in the world?\n"
     ]
    },
    {
     "name": "stdin",
     "output_type": "stream",
     "text": [
      "Your answer:  Pacific Ocean\n"
     ]
    },
    {
     "name": "stdout",
     "output_type": "stream",
     "text": [
      "BOOM! That's right \n",
      "\n",
      "GAME OVER!!\n",
      "Priya, your total score is: 2/3\n"
     ]
    }
   ],
   "source": [
    "# Creating quiz questions in dictionary\n",
    "questions = {\n",
    "    \"Who is the Prime Minister of India?\": \"Narendra Modi\",\n",
    "    \"Who is the first female on the moon?\": \"Christina Koch\",\n",
    "    \"What is the largest ocean in the world?\": \"Pacific Ocean\"\n",
    "}\n",
    "\n",
    "print(\"Welcome to the QUIZ GAME!\")\n",
    "player_name = input(\"Enter your name: \")\n",
    "\n",
    "score = 0\n",
    "answers_list = []   # list of dicts to store n, your correct answer\n",
    "\n",
    "# Loop function\n",
    "for n, correct_answer in questions.items():\n",
    "    print(\"\\n\" + n)\n",
    "    user_answer = input(\"Your answer: \").strip()\n",
    "\n",
    "    if user_answer.lower() == correct_answer.lower():\n",
    "        print(\"BOOM! That's right \")\n",
    "        score += 1\n",
    "    else:\n",
    "        print(f\"Whoops, That's wrong Correct answer: {correct_answer}\")\n",
    "\n",
    "    # store each attempt in a list\n",
    "    answers_list.append({\n",
    "        \"Question\": n,\n",
    "        \"Your Answer\": user_answer,\n",
    "        \"Correct Answer\": correct_answer\n",
    "    })\n",
    "\n",
    "# results\n",
    "print(\"\\nGAME OVER!!\")\n",
    "print(f\"{player_name}, your total score is: {score}/{len(questions)}\")\n"
   ]
  },
  {
   "cell_type": "code",
   "execution_count": 37,
   "id": "324d8c8e-9021-44a8-af7b-5c50b9ec7fcc",
   "metadata": {},
   "outputs": [
    {
     "data": {
      "image/png": "[encoded data removed]",
      "text/plain": [
       "<Figure size 640x480 with 1 Axes>"
      ]
     },
     "metadata": {},
     "output_type": "display_data"
    },
    {
     "data": {
      "text/plain": [
       "<function matplotlib.pyplot.legend(*args, **kwargs) -> 'Legend'>"
      ]
     },
     "execution_count": 37,
     "metadata": {},
     "output_type": "execute_result"
    }
   ],
   "source": [
    "import matplotlib.pyplot as plt\n",
    "\n",
    "correct = score\n",
    "wrong = len(questions) - score\n",
    "\n",
    "# Bar chart\n",
    "plt.bar([\"Correct\", \"Wrong\"], [correct, wrong], color=[\"y\", \"r\"],edgecolor='b')\n",
    "plt.title(f\"Quiz Results for {player_name}\")\n",
    "plt.ylabel(\"Number of Questions\")\n",
    "plt.show()\n",
    "plt.legend"
   ]
  }
 ],
 "metadata": {
  "kernelspec": {
   "display_name": "Python [conda env:base] *",
   "language": "python",
   "name": "conda-base-py"
  },
  "language_info": {
   "codemirror_mode": {
    "name": "ipython",
    "version": 3
   },
   "file_extension": ".py",
   "mimetype": "text/x-python",
   "name": "python",
   "nbconvert_exporter": "python",
   "pygments_lexer": "ipython3",
   "version": "3.12.7"
  }
 },
 "nbformat": 4,
 "nbformat_minor": 5
}
